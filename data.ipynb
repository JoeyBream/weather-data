{
 "cells": [
  {
   "cell_type": "code",
   "execution_count": null,
   "id": "9d9f8438-7681-475d-80e2-f2b7a8c8ff11",
   "metadata": {},
   "outputs": [],
   "source": [
    "import pandas as pd\n",
    "import matplotlib.pyplot as plt"
   ]
  },
  {
   "cell_type": "code",
   "execution_count": null,
   "id": "c6331803-2743-46aa-a261-b51b89294509",
   "metadata": {},
   "outputs": [],
   "source": [
    "weather_data = r'C:\\Users\\JosephBream\\OneDrive - Smart Managed Solutions\\Documents\\Weather Station Data.xlsx'\n",
    "\n",
    "# Read all sheets into a dictionary of DataFrames\n",
    "dfs = pd.read_excel(weather_data, sheet_name=None)\n",
    "\n",
    "# Iterate over each sheet and write it to a CSV file\n",
    "# for sheet_name, df in dfs.items():\n",
    "#     csv_filename = f\"{sheet_name}.csv\"  # Construct the CSV filename\n",
    "#     df.to_csv(csv_filename, index=False)  # Write DataFrame to CSV without index\n",
    "\n",
    "#     print(f\"Converted '{sheet_name}' to CSV: {csv_filename}\")"
   ]
  },
  {
   "cell_type": "code",
   "execution_count": 67,
   "id": "ee9aa990-1491-48d3-8b02-5966fca20e6e",
   "metadata": {},
   "outputs": [],
   "source": [
    "WS_Data = pd.read_csv('Data.csv')\n",
    "WS_Stations = pd.read_csv('Stations.csv')"
   ]
  },
  {
   "cell_type": "code",
   "execution_count": 68,
   "id": "f4cdd35a-eacd-4089-b2de-1f9114c898c7",
   "metadata": {},
   "outputs": [
    {
     "data": {
      "text/html": [
       "<div>\n",
       "<style scoped>\n",
       "    .dataframe tbody tr th:only-of-type {\n",
       "        vertical-align: middle;\n",
       "    }\n",
       "\n",
       "    .dataframe tbody tr th {\n",
       "        vertical-align: top;\n",
       "    }\n",
       "\n",
       "    .dataframe thead th {\n",
       "        text-align: right;\n",
       "    }\n",
       "</style>\n",
       "<table border=\"1\" class=\"dataframe\">\n",
       "  <thead>\n",
       "    <tr style=\"text-align: right;\">\n",
       "      <th></th>\n",
       "      <th>Timestamp</th>\n",
       "      <th>03770H150</th>\n",
       "      <th>03770C150</th>\n",
       "      <th>EGLLH150</th>\n",
       "      <th>EGLLC150</th>\n",
       "      <th>EGLCH150</th>\n",
       "      <th>EGLCC150</th>\n",
       "    </tr>\n",
       "  </thead>\n",
       "  <tbody>\n",
       "    <tr>\n",
       "      <th>0</th>\n",
       "      <td>2010-01-01</td>\n",
       "      <td>375.7</td>\n",
       "      <td>0.0</td>\n",
       "      <td>397.5</td>\n",
       "      <td>0.0</td>\n",
       "      <td>385.6</td>\n",
       "      <td>0.0</td>\n",
       "    </tr>\n",
       "    <tr>\n",
       "      <th>1</th>\n",
       "      <td>2010-02-01</td>\n",
       "      <td>292.9</td>\n",
       "      <td>0.0</td>\n",
       "      <td>307.8</td>\n",
       "      <td>0.0</td>\n",
       "      <td>305.8</td>\n",
       "      <td>0.0</td>\n",
       "    </tr>\n",
       "    <tr>\n",
       "      <th>2</th>\n",
       "      <td>2010-03-01</td>\n",
       "      <td>228.5</td>\n",
       "      <td>0.1</td>\n",
       "      <td>246.5</td>\n",
       "      <td>0.3</td>\n",
       "      <td>241.7</td>\n",
       "      <td>0.1</td>\n",
       "    </tr>\n",
       "    <tr>\n",
       "      <th>3</th>\n",
       "      <td>2010-04-01</td>\n",
       "      <td>134.7</td>\n",
       "      <td>10.0</td>\n",
       "      <td>147.1</td>\n",
       "      <td>9.7</td>\n",
       "      <td>150.8</td>\n",
       "      <td>7.9</td>\n",
       "    </tr>\n",
       "    <tr>\n",
       "      <th>4</th>\n",
       "      <td>2010-05-01</td>\n",
       "      <td>104.7</td>\n",
       "      <td>28.6</td>\n",
       "      <td>114.7</td>\n",
       "      <td>31.5</td>\n",
       "      <td>116.5</td>\n",
       "      <td>23.0</td>\n",
       "    </tr>\n",
       "  </tbody>\n",
       "</table>\n",
       "</div>"
      ],
      "text/plain": [
       "    Timestamp  03770H150  03770C150  EGLLH150  EGLLC150  EGLCH150  EGLCC150\n",
       "0  2010-01-01      375.7        0.0     397.5       0.0     385.6       0.0\n",
       "1  2010-02-01      292.9        0.0     307.8       0.0     305.8       0.0\n",
       "2  2010-03-01      228.5        0.1     246.5       0.3     241.7       0.1\n",
       "3  2010-04-01      134.7       10.0     147.1       9.7     150.8       7.9\n",
       "4  2010-05-01      104.7       28.6     114.7      31.5     116.5      23.0"
      ]
     },
     "execution_count": 68,
     "metadata": {},
     "output_type": "execute_result"
    }
   ],
   "source": [
    "WS_Data.head() # Quick look at the data"
   ]
  },
  {
   "cell_type": "code",
   "execution_count": 22,
   "id": "3172aa7d-5bc8-4c1d-9221-6d7f9d7ca154",
   "metadata": {},
   "outputs": [
    {
     "data": {
      "text/html": [
       "<div>\n",
       "<style scoped>\n",
       "    .dataframe tbody tr th:only-of-type {\n",
       "        vertical-align: middle;\n",
       "    }\n",
       "\n",
       "    .dataframe tbody tr th {\n",
       "        vertical-align: top;\n",
       "    }\n",
       "\n",
       "    .dataframe thead th {\n",
       "        text-align: right;\n",
       "    }\n",
       "</style>\n",
       "<table border=\"1\" class=\"dataframe\">\n",
       "  <thead>\n",
       "    <tr style=\"text-align: right;\">\n",
       "      <th></th>\n",
       "      <th>Station ID</th>\n",
       "      <th>Station Name</th>\n",
       "      <th>Station Longitude</th>\n",
       "      <th>Station Latitude</th>\n",
       "      <th>Station City</th>\n",
       "      <th>% Estimated</th>\n",
       "    </tr>\n",
       "  </thead>\n",
       "  <tbody>\n",
       "    <tr>\n",
       "      <th>0</th>\n",
       "      <td>03770</td>\n",
       "      <td>London St James Park</td>\n",
       "      <td>0.13W</td>\n",
       "      <td>51.50N</td>\n",
       "      <td>London</td>\n",
       "      <td>0.020</td>\n",
       "    </tr>\n",
       "    <tr>\n",
       "      <th>1</th>\n",
       "      <td>EGLL</td>\n",
       "      <td>London, GB</td>\n",
       "      <td>0.45W</td>\n",
       "      <td>51.48N</td>\n",
       "      <td>London</td>\n",
       "      <td>0.002</td>\n",
       "    </tr>\n",
       "    <tr>\n",
       "      <th>2</th>\n",
       "      <td>EGLC</td>\n",
       "      <td>London City Airport</td>\n",
       "      <td>NaN</td>\n",
       "      <td>NaN</td>\n",
       "      <td>London</td>\n",
       "      <td>0.030</td>\n",
       "    </tr>\n",
       "  </tbody>\n",
       "</table>\n",
       "</div>"
      ],
      "text/plain": [
       "  Station ID          Station Name Station Longitude Station Latitude  \\\n",
       "0      03770  London St James Park             0.13W           51.50N   \n",
       "1       EGLL            London, GB             0.45W           51.48N   \n",
       "2       EGLC   London City Airport               NaN              NaN   \n",
       "\n",
       "  Station City  % Estimated  \n",
       "0       London        0.020  \n",
       "1       London        0.002  \n",
       "2       London        0.030  "
      ]
     },
     "execution_count": 22,
     "metadata": {},
     "output_type": "execute_result"
    }
   ],
   "source": [
    "WS_Stations.head() #  A look at the stations records"
   ]
  },
  {
   "cell_type": "code",
   "execution_count": 70,
   "id": "ff805e72-cace-4c29-bea5-de6e7cc02230",
   "metadata": {},
   "outputs": [
    {
     "ename": "SyntaxError",
     "evalue": "invalid syntax (2114073461.py, line 1)",
     "output_type": "error",
     "traceback": [
      "\u001b[1;36m  Cell \u001b[1;32mIn[70], line 1\u001b[1;36m\u001b[0m\n\u001b[1;33m    WS_Data.['Timestamp','03770H150'].plot.line\u001b[0m\n\u001b[1;37m            ^\u001b[0m\n\u001b[1;31mSyntaxError\u001b[0m\u001b[1;31m:\u001b[0m invalid syntax\n"
     ]
    }
   ],
   "source": [
    "# Some data cleaning"
   ]
  }
 ],
 "metadata": {
  "kernelspec": {
   "display_name": "Python 3 (ipykernel)",
   "language": "python",
   "name": "python3"
  },
  "language_info": {
   "codemirror_mode": {
    "name": "ipython",
    "version": 3
   },
   "file_extension": ".py",
   "mimetype": "text/x-python",
   "name": "python",
   "nbconvert_exporter": "python",
   "pygments_lexer": "ipython3",
   "version": "3.11.7"
  }
 },
 "nbformat": 4,
 "nbformat_minor": 5
}
